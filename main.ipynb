{
 "cells": [
  {
   "cell_type": "code",
   "execution_count": 36,
   "id": "1b4d089b",
   "metadata": {},
   "outputs": [],
   "source": [
    "import pandas as pd\n",
    "import re\n",
    "import itertools\n",
    "import torch\n",
    "import ast\n",
    "import matplotlib.pyplot as plt\n",
    "from collections import defaultdict\n",
    "from datetime import datetime\n",
    "import torch.optim as optim\n",
    "import torch.nn as nn\n",
    "from torch.utils.data import Dataset, DataLoader\n"
   ]
  },
  {
   "cell_type": "code",
   "execution_count": 37,
   "id": "4f31b328",
   "metadata": {},
   "outputs": [
    {
     "name": "stdout",
     "output_type": "stream",
     "text": [
      "Using device: mps\n"
     ]
    }
   ],
   "source": [
    "if torch.backends.mps.is_available():\n",
    "    device = torch.device(\"mps\")\n",
    "elif torch.cuda.is_available():\n",
    "    device = torch.device(\"cuda\")\n",
    "else:\n",
    "    device = torch.device(\"cpu\")\n",
    "print(\"Using device:\", device)\n"
   ]
  },
  {
   "cell_type": "code",
   "execution_count": 38,
   "id": "e9ebaa7d",
   "metadata": {},
   "outputs": [],
   "source": [
    "\n",
    "# Define the correct file path (adjust if needed)\n",
    "file_path_final = \"./resale_flat_prices_one_hot_vector_and_embed.xlsx\"\n",
    "\n",
    "# Load the Excel file\n",
    "df_final = pd.read_excel(file_path_final)\n",
    "\n",
    "# Drop missing values\n",
    "df_final.dropna(inplace=True)\n",
    "\n",
    "# Display first few rows\n",
    "# df_final.head()"
   ]
  },
  {
   "cell_type": "markdown",
   "id": "d31cd5f7",
   "metadata": {},
   "source": [
    "## Checking For Unique rows in dataset\n",
    "\"./resale_flat_prices_one_hot_vector_and_embed.xlsx\""
   ]
  },
  {
   "cell_type": "code",
   "execution_count": 39,
   "id": "f09af7b0",
   "metadata": {},
   "outputs": [
    {
     "name": "stdout",
     "output_type": "stream",
     "text": [
      "Total rows: 391152\n",
      "Unique rows: 391152\n"
     ]
    }
   ],
   "source": [
    "# Flatten each row to a hashable tuple (handle list columns properly)\n",
    "def row_to_tuple(row):\n",
    "    flattened = []\n",
    "    for val in row:\n",
    "        if isinstance(val, list):\n",
    "            flattened.extend(val)\n",
    "        else:\n",
    "            flattened.append(val)\n",
    "    return tuple(flattened)\n",
    "\n",
    "# Apply to each row\n",
    "df_final['row_tuple'] = df_final.apply(row_to_tuple, axis=1)\n",
    "\n",
    "\n",
    "\n",
    "'''\n",
    "Example of row -> row_tuple transformation\n",
    "row = {\n",
    "     'month': '2017-01-01',\n",
    "     'flat_type': '2 ROOM',\n",
    "     'storey_category': 'Low',\n",
    "     'floor_area_category': 40,\n",
    "     'lease_commence_date': 1979.0,\n",
    "     'remaining_lease': 61.33,\n",
    "     'resale_price': 232000.0,\n",
    "     'town_one_hot': [1, 0, 0, 0, 0],\n",
    "     'flat_model_one_hot': [0, 0, 1],\n",
    "     'hdb_classification_one_hot': [1, 0],\n",
    "     'street_name_embed': [1.25, -0.25, 0.63]\n",
    " }\n",
    "\n",
    "row_tuple=\n",
    " (\n",
    "    '2017-01-01', '2 ROOM', 'Low', 40, 1979.0, 61.33, 232000.0,\n",
    "     1, 0, 0, 0, 0,                     # town_one_hot\n",
    "     0, 0, 1,                           # flat_model_one_hot\n",
    "     1, 0,                              # hdb_classification_one_hot\n",
    "     1.25, -0.25, 0.63                  # street_name_embed\n",
    " )\n",
    "\n",
    "'''\n",
    "\n",
    "# Count total and unique rows\n",
    "total_rows = len(df_final)\n",
    "unique_rows = df_final['row_tuple'].nunique()\n",
    "\n",
    "print(\"Total rows:\", total_rows)\n",
    "print(\"Unique rows:\", unique_rows)\n",
    "\n"
   ]
  },
  {
   "cell_type": "markdown",
   "id": "0e99fb57",
   "metadata": {},
   "source": [
    "## Generate Static Vector\n",
    "\n",
    "Static vectors are made from \n",
    "- 'town_one_hot', \n",
    "- 'flat_type',\n",
    "- 'street_name_embed',\n",
    "- 'storey_category', \n",
    "- 'floor_area_category', \n",
    "- 'flat_model_one_hot', \n",
    "- 'lease_commence_date',\n",
    "- 'hdb_classification_one_hot' \n",
    "\n",
    "Row entries in this 'static vector' column can be thought of as a HDB flat profile"
   ]
  },
  {
   "cell_type": "code",
   "execution_count": 40,
   "id": "f4832b25",
   "metadata": {},
   "outputs": [
    {
     "name": "stdout",
     "output_type": "stream",
     "text": [
      "Feedforward input dim: 69\n"
     ]
    },
    {
     "data": {
      "text/plain": [
       "0         [tensor(1.), tensor(0.), tensor(0.), tensor(0....\n",
       "1         [tensor(0.), tensor(0.), tensor(0.), tensor(0....\n",
       "2         [tensor(0.), tensor(0.), tensor(0.), tensor(0....\n",
       "3         [tensor(0.), tensor(0.), tensor(0.), tensor(0....\n",
       "4         [tensor(0.), tensor(0.), tensor(0.), tensor(0....\n",
       "                                ...                        \n",
       "391147    [tensor(0.), tensor(0.), tensor(0.), tensor(0....\n",
       "391148    [tensor(0.), tensor(0.), tensor(0.), tensor(0....\n",
       "391149    [tensor(0.), tensor(1.), tensor(0.), tensor(0....\n",
       "391150    [tensor(0.), tensor(0.), tensor(0.), tensor(0....\n",
       "391151    [tensor(0.), tensor(0.), tensor(0.), tensor(0....\n",
       "Name: static_vector, Length: 391152, dtype: object"
      ]
     },
     "execution_count": 40,
     "metadata": {},
     "output_type": "execute_result"
    }
   ],
   "source": [
    "\n",
    "# Check data type for each static feature\n",
    "static_features = [\n",
    "    'town_one_hot', # str\n",
    "    'flat_type', #str\n",
    "    'street_name_embed', #str\n",
    "    'storey_category', #str\n",
    "    'floor_area_category', #numpy.int64\n",
    "    'flat_model_one_hot', #str\n",
    "    'lease_commence_date',#numpy.int64\n",
    "    'hdb_classification_one_hot' #str\n",
    "]\n",
    "\n",
    "# for feature in static_features:\n",
    "#   x=type(df_final.loc[0, feature])\n",
    "#   print(feature,x)\n",
    "\n",
    "# Convert numeric static features into python list\n",
    "numeric_columns_to_fix = [\n",
    "    'town_one_hot',\n",
    "    'street_name_embed',\n",
    "    'flat_model_one_hot',\n",
    "    'hdb_classification_one_hot'\n",
    "]\n",
    "\n",
    "for col in numeric_columns_to_fix:\n",
    "    df_final[col] = df_final[col].apply(ast.literal_eval)\n",
    "\n",
    "# Convert non_numeric static features into one_hot_vectors\n",
    "flat_type_mapping = {\n",
    "    '1 ROOM': 0,\n",
    "    '2 ROOM': 1,\n",
    "    '3 ROOM': 2,\n",
    "    '4 ROOM': 3,\n",
    "    '5 ROOM': 4,\n",
    "    'EXECUTIVE': 5,\n",
    "    'MULTI-GENERATION': 6\n",
    "}\n",
    "storey_mapping = {\n",
    "    'Low': 0,\n",
    "    'High': 1\n",
    "}\n",
    "df_final['flat_type'] = df_final['flat_type'].map(flat_type_mapping)\n",
    "df_final['storey_category'] = df_final['storey_category'].map(storey_mapping)\n",
    "\n",
    "\n",
    "# Function to create static vector\n",
    "def flatten_static_features(row):\n",
    "    return torch.tensor(\n",
    "        row['town_one_hot'] +\n",
    "        row['flat_model_one_hot'] +\n",
    "        row['hdb_classification_one_hot'] +\n",
    "        row['street_name_embed'] +\n",
    "        [\n",
    "            row['lease_commence_date'],\n",
    "            row['floor_area_category'],\n",
    "            row['flat_type'],\n",
    "            row['storey_category']\n",
    "        ],\n",
    "        dtype=torch.float32\n",
    "    )\n",
    "\n",
    "# Apply flatten_static_features function to every row in df_final\n",
    "df_final['static_vector'] = df_final.apply(flatten_static_features, axis=1)\n",
    "\n",
    "input_dim = len(df_final.loc[0, 'static_vector'])\n",
    "print(\"Feedforward input dim:\", input_dim)\n",
    "\n",
    "# Sanity check: We now have column - static_vector - where every row is a 69 dimension tensor\n",
    "df_final['static_vector']\n"
   ]
  },
  {
   "cell_type": "markdown",
   "id": "20381f70",
   "metadata": {},
   "source": [
    "# Checking for unique static vectors \n",
    "\n",
    "Problem - Collapsing too many rows into a single static vector could result in static vectors with a short sequence length. Ideally, we'd want a sequence length of at least 12 months"
   ]
  },
  {
   "cell_type": "code",
   "execution_count": 41,
   "id": "ac3dd85c",
   "metadata": {},
   "outputs": [
    {
     "data": {
      "image/png": "[encoded data removed]",
      "text/plain": [
       "<Figure size 1000x500 with 1 Axes>"
      ]
     },
     "metadata": {},
     "output_type": "display_data"
    }
   ],
   "source": [
    "\n",
    "df_final['static_tuple'] = df_final['static_vector'].apply(lambda x: tuple(x.tolist()))\n",
    "profile_sequence_lengths = df_final['static_tuple'].value_counts()\n",
    "plt.figure(figsize=(10, 5))\n",
    "profile_sequence_lengths.hist(bins=50)\n",
    "plt.title(\"Sequence Lengths (Monthly Records) per Flat Profile\")\n",
    "plt.xlabel(\"Number of Months\")\n",
    "plt.ylabel(\"Number of Flat Profiles\")\n",
    "plt.grid(True)\n",
    "plt.show()"
   ]
  },
  {
   "cell_type": "code",
   "execution_count": 42,
   "id": "11c6a941",
   "metadata": {},
   "outputs": [
    {
     "name": "stdout",
     "output_type": "stream",
     "text": [
      "Number of unique static profiles 11897\n",
      "Number of static profiles with > 12 months of data: 7110\n",
      "Average sequence length (for profiles >12 months): 50.75977496483826\n",
      "Number of static profiles with < 12 months of data: 3537\n",
      "Total Number of Rows in dataset 391152\n"
     ]
    }
   ],
   "source": [
    "num_profiles_gt_12 = (profile_sequence_lengths > 12).sum()\n",
    "num_profiles_lt_12 = (profile_sequence_lengths < 12).sum()\n",
    "avg_length = profile_sequence_lengths[profile_sequence_lengths > 12].mean()\n",
    "num_unique_static_vectors = df_final['static_tuple'].nunique()\n",
    "\n",
    "print(\"Number of unique static profiles\", num_unique_static_vectors)\n",
    "print(\"Number of static profiles with > 12 months of data:\", num_profiles_gt_12)\n",
    "print(\"Average sequence length (for profiles >12 months):\", avg_length)\n",
    "print(\"Number of static profiles with < 12 months of data:\", num_profiles_lt_12)\n",
    "print(\"Total Number of Rows in dataset\",len(df_final))\n"
   ]
  },
  {
   "cell_type": "markdown",
   "id": "e9eaf75c",
   "metadata": {},
   "source": [
    "## Clean up \n",
    "Filtering out unique static vectors with <12 months of data"
   ]
  },
  {
   "cell_type": "code",
   "execution_count": 43,
   "id": "ca711087",
   "metadata": {},
   "outputs": [
    {
     "name": "stdout",
     "output_type": "stream",
     "text": [
      "Filtered dataset size: 360902\n"
     ]
    }
   ],
   "source": [
    "valid_profiles = profile_sequence_lengths[profile_sequence_lengths > 12].index\n",
    "df_filtered = df_final[df_final['static_tuple'].isin(valid_profiles)]\n",
    "print(\"Filtered dataset size:\", len(df_filtered))\n"
   ]
  },
  {
   "cell_type": "markdown",
   "id": "bd834390",
   "metadata": {},
   "source": [
    "## Contigious Check \n",
    "\n",
    "Now that we have identified our static vectors with more than 12 months of data, there is still 1 more check we should do. The sequence must be contiguous, meaning that the sequence should not be disjointed "
   ]
  },
  {
   "cell_type": "code",
   "execution_count": 44,
   "id": "0062ea9b",
   "metadata": {},
   "outputs": [
    {
     "name": "stderr",
     "output_type": "stream",
     "text": [
      "/var/folders/5x/zyxhwl456zgdlj_lrsfyy9qm0000gn/T/ipykernel_14801/2618642495.py:5: SettingWithCopyWarning: \n",
      "A value is trying to be set on a copy of a slice from a DataFrame.\n",
      "Try using .loc[row_indexer,col_indexer] = value instead\n",
      "\n",
      "See the caveats in the documentation: https://pandas.pydata.org/pandas-docs/stable/user_guide/indexing.html#returning-a-view-versus-a-copy\n",
      "  df_filtered['month'] = pd.to_datetime(df_filtered['month'])\n"
     ]
    }
   ],
   "source": [
    "# Dictionary to track if each profile has 12+ *consecutive* months\n",
    "valid_continuous_profiles = []\n",
    "\n",
    "# Convert to datetime if not already\n",
    "df_filtered['month'] = pd.to_datetime(df_filtered['month'])\n",
    "\n",
    "# Group by static profile\n",
    "grouped = df_filtered.groupby('static_tuple')\n",
    "\n",
    "for static_key, group in grouped:\n",
    "    months = group['month'].sort_values().reset_index(drop=True)\n",
    "\n",
    "    # Convert to month difference from first month\n",
    "    deltas = months.diff().dropna().dt.days\n",
    "\n",
    "    # Count longest streak of monthly continuity (≤31 days between months)\n",
    "    streak = 1\n",
    "    max_streak = 1\n",
    "    for gap in deltas:\n",
    "        if gap <= 31:  # Allow 1-month gaps\n",
    "            streak += 1\n",
    "            max_streak = max(max_streak, streak)\n",
    "        else:\n",
    "            streak = 1  # Reset streak if gap too large\n",
    "\n",
    "    if max_streak >= 12:\n",
    "        valid_continuous_profiles.append(static_key)\n",
    "\n"
   ]
  },
  {
   "cell_type": "code",
   "execution_count": 45,
   "id": "e4dc88f3",
   "metadata": {},
   "outputs": [
    {
     "name": "stdout",
     "output_type": "stream",
     "text": [
      "Strictly valid profiles with ≥12 *consecutive* months: 5632\n",
      "Remaining rows: 321699\n"
     ]
    }
   ],
   "source": [
    "df_strict = df_filtered[df_filtered['static_tuple'].isin(valid_continuous_profiles)]\n",
    "print(\"Strictly valid profiles with ≥12 *consecutive* months:\", len(valid_continuous_profiles))\n",
    "print(\"Remaining rows:\", len(df_strict))"
   ]
  },
  {
   "cell_type": "code",
   "execution_count": 46,
   "id": "b6d651c1",
   "metadata": {},
   "outputs": [
    {
     "name": "stdout",
     "output_type": "stream",
     "text": [
      "Final dataset size: 321699\n"
     ]
    }
   ],
   "source": [
    "# Update df_final to only include valid continuous profiles\n",
    "df_final = df_strict.copy()\n",
    "df_final.reset_index(drop=True, inplace=True)\n",
    "print(\"Final dataset size:\", len(df_final))"
   ]
  },
  {
   "cell_type": "markdown",
   "id": "3eced337",
   "metadata": {},
   "source": [
    "## Define Train - Test - Val split\n",
    "\n"
   ]
  },
  {
   "cell_type": "code",
   "execution_count": null,
   "id": "77dfd095",
   "metadata": {},
   "outputs": [
    {
     "name": "stdout",
     "output_type": "stream",
     "text": [
      "Train size: 106344 (Pre-COVID)\n",
      "Validation size: 36588 (0–1 year post-COVID)\n",
      "Test size: 178767 (1+ years post-COVID)\n"
     ]
    }
   ],
   "source": [
    "\n",
    "''' \n",
    "    Split dataset by flat profile. So each group is a flat profile with multiple months of data.\n",
    "    Then sort each group by month to process the data in true chronological order\n",
    "    Split each group into train, val, and test sets\n",
    "    - Train: Before COVID\n",
    "    - Val: 0-1 year after COVID\n",
    "    - Test: 1+ years after COVID\n",
    "'''\n",
    "\n",
    "# Ensure 'month' column is datetime\n",
    "df_final['month'] = pd.to_datetime(df_final['month'])\n",
    "\n",
    "# Define COVID cutoff points\n",
    "covid_start = pd.to_datetime(\"2020-01-01\")\n",
    "val_cutoff = pd.to_datetime(\"2021-01-01\")\n",
    "test_cutoff = pd.to_datetime(\"2021-01-01\")  # Not strictly needed, just for clarity\n",
    "\n",
    "# Split globally across all static profiles\n",
    "df_train = df_final[df_final['month'] < covid_start].reset_index(drop=True)\n",
    "df_val = df_final[(df_final['month'] >= covid_start) & (df_final['month'] < val_cutoff)].reset_index(drop=True)\n",
    "df_test = df_final[df_final['month'] >= test_cutoff].reset_index(drop=True)\n",
    "\n",
    "# ✅ Final sanity check\n",
    "print(f\"Train size: {len(df_train)} (Pre-COVID)\")\n",
    "print(f\"Validation size: {len(df_val)} (0–1 year post-COVID)\")\n",
    "print(f\"Test size: {len(df_test)} (1+ years post-COVID)\")\n"
   ]
  },
  {
   "cell_type": "markdown",
   "id": "10541193",
   "metadata": {},
   "source": [
    "### Round 2: Filter out Non-Contiguous Static Variables\n",
    "\n",
    "After we have split our dataset into train-val-test sets, we might run into another round of non-contiguous data. Hence, we must filter them out again"
   ]
  },
  {
   "cell_type": "code",
   "execution_count": 51,
   "id": "6f020b32",
   "metadata": {},
   "outputs": [],
   "source": [
    "def get_valid_continuous_profiles(df, min_streak=12):\n",
    "    df['month'] = pd.to_datetime(df['month'])\n",
    "    grouped = df.groupby('static_tuple')\n",
    "    valid_profiles = []\n",
    "\n",
    "    for static_key, group in grouped:\n",
    "        months = group['month'].sort_values().reset_index(drop=True)\n",
    "        deltas = months.diff().dropna().dt.days\n",
    "\n",
    "        streak = 1\n",
    "        max_streak = 1\n",
    "        for gap in deltas:\n",
    "            if gap <= 31:  # ≤1 month gap\n",
    "                streak += 1\n",
    "                max_streak = max(max_streak, streak)\n",
    "            else:\n",
    "                streak = 1\n",
    "        if max_streak >= min_streak:\n",
    "            valid_profiles.append(static_key)\n",
    "\n",
    "    return valid_profiles\n"
   ]
  },
  {
   "cell_type": "markdown",
   "id": "a4f73854",
   "metadata": {},
   "source": [
    "### Generate train-val-test files"
   ]
  },
  {
   "cell_type": "code",
   "execution_count": 52,
   "id": "1c83a5db",
   "metadata": {},
   "outputs": [
    {
     "name": "stdout",
     "output_type": "stream",
     "text": [
      "Filtered train size: 96662\n",
      "Filtered val size: 30084\n",
      "Filtered test size: 172737\n"
     ]
    }
   ],
   "source": [
    "# Filter train\n",
    "train_valid_profiles = get_valid_continuous_profiles(df_train)\n",
    "df_train = df_train[df_train['static_tuple'].isin(train_valid_profiles)].reset_index(drop=True)\n",
    "\n",
    "# Filter val\n",
    "val_valid_profiles = get_valid_continuous_profiles(df_val)\n",
    "df_val = df_val[df_val['static_tuple'].isin(val_valid_profiles)].reset_index(drop=True)\n",
    "\n",
    "# Filter test\n",
    "test_valid_profiles = get_valid_continuous_profiles(df_test)\n",
    "df_test = df_test[df_test['static_tuple'].isin(test_valid_profiles)].reset_index(drop=True)\n",
    "\n",
    "print(\"Filtered train size:\", len(df_train))\n",
    "print(\"Filtered val size:\", len(df_val))\n",
    "print(\"Filtered test size:\", len(df_test))"
   ]
  },
  {
   "cell_type": "markdown",
   "id": "bd4bfc87",
   "metadata": {},
   "source": [
    "## Save train, val and test dataframes"
   ]
  },
  {
   "cell_type": "code",
   "execution_count": null,
   "id": "0ab5c691",
   "metadata": {},
   "outputs": [],
   "source": [
    "# Save train, val, and test dataframes\n",
    "# df_train.to_csv(\"train_data.csv\", index=False)\n",
    "# df_val.to_csv(\"val_data.csv\", index=False)\n",
    "# df_test.to_csv(\"test_data.csv\", index=False)"
   ]
  },
  {
   "cell_type": "markdown",
   "id": "5434e5b6",
   "metadata": {},
   "source": [
    "## Create Feedforward layer using static vectors"
   ]
  },
  {
   "cell_type": "code",
   "execution_count": 53,
   "id": "6bc99209",
   "metadata": {},
   "outputs": [
    {
     "name": "stdout",
     "output_type": "stream",
     "text": [
      "Train set with static embedding shape: [64]\n",
      "Val set with static embedding shape: [64]\n",
      "Test set with static embedding shape: [64]\n"
     ]
    }
   ],
   "source": [
    "\n",
    "# Define the feedforward model\n",
    "class StaticFFModel(nn.Module):\n",
    "    def __init__(self, input_dim, output_dim):\n",
    "        super().__init__()\n",
    "        self.ff = nn.Sequential(\n",
    "            nn.Linear(input_dim, 128), # The hidden layer here is also a tunable hyperparameter. I set 128 for now\n",
    "            nn.ReLU(),\n",
    "            nn.Linear(128, output_dim),\n",
    "            nn.ReLU()\n",
    "        )\n",
    "\n",
    "    def forward(self, x):\n",
    "        return self.ff(x)\n",
    "\n",
    "# Create instance\n",
    "static_ff = StaticFFModel(input_dim=69, output_dim=64) # Note we should modify the output dimension to fit the hidden layer of the LSTM model. I set 64 for now\n",
    "\n",
    "# Move model to MPS (or CUDA/CPU depending on your setup)\n",
    "static_ff = static_ff.to(device)\n",
    "\n",
    "#processing df_train\n",
    "static_tensor_batch = torch.stack(df_train['static_vector'].tolist()).to(device)  \n",
    "feedforward_output_train = static_ff(static_tensor_batch)\n",
    "df_train['static_embedding'] = feedforward_output_train.detach().cpu().tolist()\n",
    "\n",
    "#processing df_val\n",
    "static_tensor_batch = torch.stack(df_val['static_vector'].tolist()).to(device)\n",
    "feedforward_output_val = static_ff(static_tensor_batch)\n",
    "df_val['static_embedding'] = feedforward_output_val.detach().cpu().tolist()\n",
    "\n",
    "#processing df_test\n",
    "static_tensor_batch = torch.stack(df_test['static_vector'].tolist()).to(device)\n",
    "feedforward_output_test = static_ff(static_tensor_batch)\n",
    "df_test['static_embedding'] = feedforward_output_test.detach().cpu().tolist()\n",
    "\n",
    "print (\"Train set with static embedding shape:\", df_train['static_embedding'].apply(lambda x: len(x)).unique())\n",
    "print (\"Val set with static embedding shape:\", df_val['static_embedding'].apply(lambda x: len(x)).unique())\n",
    "print (\"Test set with static embedding shape:\", df_test['static_embedding'].apply(lambda x: len(x)).unique())\n",
    "\n"
   ]
  },
  {
   "cell_type": "markdown",
   "id": "ae3a55be",
   "metadata": {},
   "source": [
    "# Sliding Window"
   ]
  },
  {
   "cell_type": "code",
   "execution_count": null,
   "id": "e0bb1ee6",
   "metadata": {},
   "outputs": [],
   "source": [
    "\n",
    "class SlidingWindowDataset(Dataset):\n",
    "    def __init__(self, df, window_size=12, non_static_cols=None, target_col='resale_price'):\n",
    "        self.samples = []\n",
    "        if non_static_cols is None:\n",
    "            non_static_cols = ['resale_price', 'remaining_lease']\n",
    "\n",
    "        grouped = df.groupby('static_tuple')\n",
    "\n",
    "        for _, group in grouped:\n",
    "            group = group.sort_values('month').reset_index(drop=True)\n",
    "            static_embedding = torch.tensor(group.iloc[0]['static_embedding'], dtype=torch.float32)\n",
    "\n",
    "            for i in range(len(group) - window_size):\n",
    "                window = group.iloc[i:i + window_size]\n",
    "                target_row = group.iloc[i + window_size]\n",
    "\n",
    "                non_static_seq = torch.tensor(window[non_static_cols].values, dtype=torch.float32)\n",
    "                target = torch.tensor(target_row[target_col], dtype=torch.float32)\n",
    "\n",
    "                self.samples.append((non_static_seq, static_embedding, target))\n",
    "\n",
    "    def __len__(self):\n",
    "        return len(self.samples)\n",
    "\n",
    "    def __getitem__(self, idx):\n",
    "        return self.samples[idx]\n",
    "\n",
    "\n",
    "\n",
    "class SlidingWindowDataLoader:\n",
    "    def __init__(self, df, window_size=12, non_static_cols=None, target_col='resale_price', batch_size=32, shuffle=True):\n",
    "        self.dataset = SlidingWindowDataset(\n",
    "            df,\n",
    "            window_size=window_size,\n",
    "            non_static_cols=non_static_cols,\n",
    "            target_col=target_col\n",
    "        )\n",
    "        self.dataloader = DataLoader(self.dataset, batch_size=batch_size, shuffle=shuffle)\n",
    "\n",
    "    def get_loader(self):\n",
    "        return self.dataloader\n"
   ]
  },
  {
   "cell_type": "markdown",
   "id": "2f7d5295",
   "metadata": {},
   "source": [
    "# LSTM"
   ]
  },
  {
   "cell_type": "code",
   "execution_count": null,
   "id": "4a21a0b8",
   "metadata": {},
   "outputs": [],
   "source": [
    "class LSTMEncoder(nn.Module):\n",
    "    def __init__(self, non_static_dim, static_embedding_dim, hidden_dim, num_layers=1):\n",
    "        super().__init__()\n",
    "        input_dim = non_static_dim + static_embedding_dim\n",
    "        self.lstm = nn.LSTM(\n",
    "            input_size=input_dim,\n",
    "            hidden_size=hidden_dim,\n",
    "            num_layers=num_layers,\n",
    "            batch_first=True\n",
    "        )\n",
    "\n",
    "    def forward(self, x):\n",
    "        # x shape: [batch_size, sequence_length, input_dim]\n",
    "        out, (hn, cn) = self.lstm(x)\n",
    "        return out  # or return hn[-1] for just the final hidden state\n",
    "    \n",
    "non_static_dim = 2   #[resale_price, remaining_lease]\n",
    "static_embedding_dim = 64\n",
    "hidden_dim = 128\n",
    "\n",
    "lstm_encoder = LSTMEncoder(non_static_dim, static_embedding_dim, hidden_dim).to(device)\n",
    "\n",
    "# Example\n",
    "non_static_seq = torch.randn(batch_size, sequence_length, non_static_dim).to(device)\n",
    "static_embed = torch.randn(batch_size, static_embedding_dim).to(device)\n",
    "\n",
    "# Expand static embedding to match sequence length\n",
    "static_seq = static_embed.unsqueeze(1).repeat(1, sequence_length, 1)  # [B, T, S]\n",
    "\n",
    "# Concatenate\n",
    "lstm_input = torch.cat([non_static_seq, static_seq], dim=-1)  # [B, T, N+S]\n",
    "\n",
    "# Feed into encoder\n",
    "lstm_output = lstm_encoder(lstm_input)"
   ]
  },
  {
   "cell_type": "code",
   "execution_count": null,
   "id": "d71c5ea6",
   "metadata": {},
   "outputs": [],
   "source": [
    "\n",
    "def train_model(encoder, decoder, train_loader, val_loader, device, epochs=10, lr=1e-3):\n",
    "    # Loss and optimizer\n",
    "    loss_fn = nn.MSELoss()\n",
    "    encoder = encoder.to(device)\n",
    "    decoder = decoder.to(device)\n",
    "    optimizer = optim.Adam(list(encoder.parameters()) + list(decoder.parameters()), lr=lr)\n",
    "\n",
    "    for epoch in range(epochs):\n",
    "        encoder.train()\n",
    "        decoder.train()\n",
    "        train_loss = 0\n",
    "\n",
    "        for non_static_seq, static_embed, target in train_loader:\n",
    "            non_static_seq = non_static_seq.to(device)\n",
    "            static_embed = static_embed.to(device)\n",
    "            target = target.to(device)\n",
    "\n",
    "            sequence_length = non_static_seq.shape[1]\n",
    "\n",
    "            # Concatenate static embedding at each time step\n",
    "            static_seq = static_embed.unsqueeze(1).repeat(1, sequence_length, 1)\n",
    "            lstm_input = torch.cat([non_static_seq, static_seq], dim=-1)\n",
    "\n",
    "            # Forward\n",
    "            output = encoder(lstm_input)                  # [B, T, hidden_dim]\n",
    "            last_hidden = output[:, -1, :]                # [B, hidden_dim]\n",
    "            prediction = decoder(last_hidden)             # [B]\n",
    "\n",
    "            # Compute loss\n",
    "            loss = loss_fn(prediction, target)\n",
    "            optimizer.zero_grad()\n",
    "            loss.backward()\n",
    "            optimizer.step()\n",
    "\n",
    "            train_loss += loss.item()\n",
    "\n",
    "        avg_train_loss = train_loss / len(train_loader)\n",
    "\n",
    "        # ---------------------------\n",
    "        # Validation\n",
    "        encoder.eval()\n",
    "        decoder.eval()\n",
    "        val_loss = 0\n",
    "\n",
    "        with torch.no_grad():\n",
    "            for non_static_seq, static_embed, target in val_loader:\n",
    "                non_static_seq = non_static_seq.to(device)\n",
    "                static_embed = static_embed.to(device)\n",
    "                target = target.to(device)\n",
    "\n",
    "                sequence_length = non_static_seq.shape[1]\n",
    "                static_seq = static_embed.unsqueeze(1).repeat(1, sequence_length, 1)\n",
    "                lstm_input = torch.cat([non_static_seq, static_seq], dim=-1)\n",
    "\n",
    "                output = encoder(lstm_input)\n",
    "                last_hidden = output[:, -1, :]\n",
    "                prediction = decoder(last_hidden)\n",
    "\n",
    "                loss = loss_fn(prediction, target)\n",
    "                val_loss += loss.item()\n",
    "\n",
    "        avg_val_loss = val_loss / len(val_loader)\n",
    "\n",
    "        print(f\"Epoch {epoch+1}/{epochs} | Train Loss: {avg_train_loss:.4f} | Val Loss: {avg_val_loss:.4f}\")\n"
   ]
  },
  {
   "cell_type": "code",
   "execution_count": null,
   "id": "41667279",
   "metadata": {},
   "outputs": [],
   "source": [
    "\n",
    "class Decoder(nn.Module):\n",
    "    def __init__(self, hidden_dim, output_dim=1):\n",
    "        super().__init__()\n",
    "        self.fc = nn.Sequential(\n",
    "            nn.Linear(hidden_dim, 64),\n",
    "            nn.ReLU(),\n",
    "            nn.Linear(64, output_dim)\n",
    "        )\n",
    "\n",
    "    def forward(self, x):\n",
    "        return self.fc(x).squeeze(-1)  # [B]\n"
   ]
  },
  {
   "cell_type": "code",
   "execution_count": null,
   "id": "e582d9d4",
   "metadata": {},
   "outputs": [
    {
     "ename": "NameError",
     "evalue": "name 'decoder' is not defined",
     "output_type": "error",
     "traceback": [
      "\u001b[0;31m---------------------------------------------------------------------------\u001b[0m",
      "\u001b[0;31mNameError\u001b[0m                                 Traceback (most recent call last)",
      "Cell \u001b[0;32mIn[34], line 3\u001b[0m\n\u001b[1;32m      1\u001b[0m train_model(\n\u001b[1;32m      2\u001b[0m     encoder\u001b[38;5;241m=\u001b[39mlstm_encoder,\n\u001b[0;32m----> 3\u001b[0m     decoder\u001b[38;5;241m=\u001b[39mdecoder,\n\u001b[1;32m      4\u001b[0m     train_loader\u001b[38;5;241m=\u001b[39mtrain_loader,\n\u001b[1;32m      5\u001b[0m     val_loader\u001b[38;5;241m=\u001b[39mval_loader,\n\u001b[1;32m      6\u001b[0m     device\u001b[38;5;241m=\u001b[39mdevice,\n\u001b[1;32m      7\u001b[0m     epochs\u001b[38;5;241m=\u001b[39m\u001b[38;5;241m20\u001b[39m,\n\u001b[1;32m      8\u001b[0m     lr\u001b[38;5;241m=\u001b[39m\u001b[38;5;241m1e-3\u001b[39m\n\u001b[1;32m      9\u001b[0m )\n",
      "\u001b[0;31mNameError\u001b[0m: name 'decoder' is not defined"
     ]
    }
   ],
   "source": [
    "train_model(\n",
    "    encoder=lstm_encoder,\n",
    "    decoder=decoder,\n",
    "    train_loader=train_loader,\n",
    "    val_loader=val_loader,\n",
    "    device=device,\n",
    "    epochs=20,\n",
    "    lr=1e-3\n",
    ")"
   ]
  }
 ],
 "metadata": {
  "kernelspec": {
   "display_name": "base",
   "language": "python",
   "name": "python3"
  },
  "language_info": {
   "codemirror_mode": {
    "name": "ipython",
    "version": 3
   },
   "file_extension": ".py",
   "mimetype": "text/x-python",
   "name": "python",
   "nbconvert_exporter": "python",
   "pygments_lexer": "ipython3",
   "version": "3.12.2"
  }
 },
 "nbformat": 4,
 "nbformat_minor": 5
}
