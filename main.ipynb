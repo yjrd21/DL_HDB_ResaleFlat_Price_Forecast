{
 "cells": [
  {
   "cell_type": "code",
   "execution_count": 384,
   "id": "1b4d089b",
   "metadata": {},
   "outputs": [],
   "source": [
    "import pandas as pd\n",
    "import numpy as np\n",
    "import re\n",
    "import itertools\n",
    "import torch\n",
    "import ast\n",
    "import matplotlib.pyplot as plt\n",
    "from collections import defaultdict\n",
    "from datetime import datetime\n",
    "import torch.optim as optim\n",
    "import torch.nn as nn\n",
    "from torch.utils.data import Dataset, DataLoader,TensorDataset\n",
    "\n"
   ]
  },
  {
   "cell_type": "code",
   "execution_count": 385,
   "id": "4f31b328",
   "metadata": {},
   "outputs": [
    {
     "name": "stdout",
     "output_type": "stream",
     "text": [
      "Using device: mps\n"
     ]
    }
   ],
   "source": [
    "if torch.backends.mps.is_available():\n",
    "    device = torch.device(\"mps\")\n",
    "elif torch.cuda.is_available():\n",
    "    device = torch.device(\"cuda\")\n",
    "else:\n",
    "    device = torch.device(\"cpu\")\n",
    "print(\"Using device:\", device)\n"
   ]
  },
  {
   "cell_type": "code",
   "execution_count": 386,
   "id": "e9ebaa7d",
   "metadata": {},
   "outputs": [],
   "source": [
    "\n",
    "# Define the correct file path (adjust if needed)\n",
    "file_path_final = \"./resale_flat_prices_final.xlsx\"\n",
    "\n",
    "# Load the Excel file\n",
    "df_final = pd.read_excel(file_path_final)\n",
    "\n",
    "# Drop missing values\n",
    "df_final.dropna(inplace=True)\n",
    "\n",
    "# Display first few rows\n",
    "# df_final.head()"
   ]
  },
  {
   "cell_type": "code",
   "execution_count": 387,
   "id": "e6d05c64",
   "metadata": {},
   "outputs": [],
   "source": [
    "# One-hot encode town, flat_type, storey_category, flat_model and hdb_classification\n",
    "town_ohe = pd.get_dummies(df_final['town']).values.astype(int).tolist()\n",
    "flat_type_ohe = pd.get_dummies(df_final['flat_type']).values.astype(int).tolist()\n",
    "storey_category_ohe = pd.get_dummies(df_final['storey_category']).values.astype(int).tolist()\n",
    "flat_model_ohe = pd.get_dummies(df_final['flat_model']).values.astype(int).tolist()\n",
    "hdb_classification_ohe = pd.get_dummies(df_final['hdb_classification']).values.astype(int).tolist()\n",
    "\n",
    "df_final['town_one_hot'] = town_ohe\n",
    "df_final['flat_type_one_hot'] = flat_type_ohe\n",
    "df_final['storey_category_one_hot'] = storey_category_ohe\n",
    "df_final['flat_model_one_hot'] = flat_model_ohe\n",
    "df_final['hdb_classification_one_hot'] = hdb_classification_ohe\n",
    "\n",
    "# Encode street_names as indices\n",
    "street_name_to_idx = {name: idx for idx, name in enumerate(df_final['street_name'].unique())}\n",
    "df_final['street_name_idx'] = df_final['street_name'].map(street_name_to_idx)\n",
    "\n",
    "# Create embedding layer and apply to indices\n",
    "num_street_names = len(street_name_to_idx)\n",
    "embedding_dim = 16\n",
    "embedding_layer = nn.Embedding(num_street_names, embedding_dim)\n",
    "\n",
    "# Convert to tensor and pass through embedding layer\n",
    "street_indices_tensor = torch.tensor(df_final['street_name_idx'].tolist(), dtype=torch.long)\n",
    "street_embeddings = embedding_layer(street_indices_tensor)\n",
    "\n",
    "# Convert embedding vectors to list and store in DataFrame\n",
    "df_final['street_name_embed'] = street_embeddings.detach().numpy().tolist()\n",
    "\n",
    "# df_final = df_final.drop(columns=['town', 'flat_type', 'storey_category', 'flat_model', 'street_name', 'street_name_idx', 'hdb_classification'])\n",
    "df_final = df_final.drop(columns=['street_name_idx'])\n",
    "output_file_path4 = \"./resale_flat_prices_one_hot_vector_and_embed.xlsx\"\n",
    "df_final.to_excel(output_file_path4, index=False)"
   ]
  },
  {
   "cell_type": "markdown",
   "id": "d31cd5f7",
   "metadata": {},
   "source": [
    "## Checking For Unique rows in dataset\n",
    "\"./resale_flat_prices_one_hot_vector_and_embed.xlsx\""
   ]
  },
  {
   "cell_type": "code",
   "execution_count": 388,
   "id": "f09af7b0",
   "metadata": {},
   "outputs": [
    {
     "name": "stdout",
     "output_type": "stream",
     "text": [
      "Total rows: 391152\n",
      "Unique rows: 391152\n"
     ]
    }
   ],
   "source": [
    "# Flatten each row to a hashable tuple (handle list columns properly)\n",
    "def row_to_tuple(row):\n",
    "    flattened = []\n",
    "    for val in row:\n",
    "        if isinstance(val, list):\n",
    "            flattened.extend(val)\n",
    "        else:\n",
    "            flattened.append(val)\n",
    "    return tuple(flattened)\n",
    "\n",
    "# Apply to each row\n",
    "df_final['row_tuple'] = df_final.apply(row_to_tuple, axis=1)\n",
    "\n",
    "\n",
    "\n",
    "'''\n",
    "Example of row -> row_tuple transformation\n",
    "row = {\n",
    "     'month': '2017-01-01',\n",
    "     'flat_type': '2 ROOM',\n",
    "     'storey_category': 'Low',\n",
    "     'floor_area_category': 40,\n",
    "     'lease_commence_date': 1979.0,\n",
    "     'remaining_lease': 61.33,\n",
    "     'resale_price': 232000.0,\n",
    "     'town_one_hot': [1, 0, 0, 0, 0],\n",
    "     'flat_model_one_hot': [0, 0, 1],\n",
    "     'hdb_classification_one_hot': [1, 0],\n",
    "     'street_name_embed': [1.25, -0.25, 0.63]\n",
    " }\n",
    "\n",
    "row_tuple=\n",
    " (\n",
    "    '2017-01-01', '2 ROOM', 'Low', 40, 1979.0, 61.33, 232000.0,\n",
    "     1, 0, 0, 0, 0,                     # town_one_hot\n",
    "     0, 0, 1,                           # flat_model_one_hot\n",
    "     1, 0,                              # hdb_classification_one_hot\n",
    "     1.25, -0.25, 0.63                  # street_name_embed\n",
    " )\n",
    "\n",
    "'''\n",
    "\n",
    "# Count total and unique rows\n",
    "total_rows = len(df_final)\n",
    "unique_rows = df_final['row_tuple'].nunique()\n",
    "\n",
    "print(\"Total rows:\", total_rows)\n",
    "print(\"Unique rows:\", unique_rows)\n",
    "\n"
   ]
  },
  {
   "cell_type": "markdown",
   "id": "0e99fb57",
   "metadata": {},
   "source": [
    "## Generate Static Vector\n",
    "\n",
    "Static vectors are made from \n",
    "- 'town_one_hot', \n",
    "- 'flat_type',\n",
    "- 'street_name_embed',\n",
    "- 'storey_category', \n",
    "- 'floor_area_category', \n",
    "- 'flat_model_one_hot', \n",
    "- 'lease_commence_date',\n",
    "- 'hdb_classification_one_hot' \n",
    "\n",
    "Row entries in this 'static vector' column can be thought of as a HDB flat profile"
   ]
  },
  {
   "cell_type": "code",
   "execution_count": 389,
   "id": "af2d9390",
   "metadata": {},
   "outputs": [
    {
     "name": "stdout",
     "output_type": "stream",
     "text": [
      "town_one_hot <class 'list'>\n",
      "flat_type_one_hot <class 'list'>\n",
      "street_name_embed <class 'list'>\n",
      "storey_category_one_hot <class 'list'>\n",
      "floor_area_category <class 'numpy.int64'>\n",
      "flat_model_one_hot <class 'list'>\n",
      "lease_commence_date <class 'numpy.float64'>\n",
      "hdb_classification_one_hot <class 'list'>\n"
     ]
    }
   ],
   "source": [
    "# Check data type for each static feature\n",
    "static_features = [\n",
    "    'town_one_hot', # list\n",
    "    'flat_type_one_hot', #str\n",
    "    'street_name_embed', # list\n",
    "    'storey_category_one_hot', #str\n",
    "    'floor_area_category', #numpy.int64\n",
    "    'flat_model_one_hot', #list\n",
    "    'lease_commence_date',#numpy.float64\n",
    "    'hdb_classification_one_hot' #list\n",
    "]\n",
    "for feature in static_features:\n",
    "  x=type(df_final.loc[0, feature])\n",
    "  print(feature,x)\n"
   ]
  },
  {
   "cell_type": "code",
   "execution_count": 390,
   "id": "cb2eb063",
   "metadata": {},
   "outputs": [
    {
     "name": "stdout",
     "output_type": "stream",
     "text": [
      "town_one_hot: 26 dimensions\n",
      "flat_type_one_hot: 7 dimensions\n",
      "street_name_embed: 16 dimensions\n",
      "storey_category_one_hot: 2 dimensions\n",
      "floor_area_category: 1 dimensions\n",
      "flat_model_one_hot: 21 dimensions\n",
      "lease_commence_date: 1 dimensions\n",
      "hdb_classification_one_hot: 2 dimensions\n",
      "Total dimensions for static features: 76\n"
     ]
    }
   ],
   "source": [
    "counter =0 \n",
    "for feature in static_features:\n",
    "    sample = df_final.loc[0, feature]\n",
    "    \n",
    "    if isinstance(sample, list):\n",
    "        length = len(sample)\n",
    "        counter += length\n",
    "    else:\n",
    "        length = 1  # scalar (int, float, one-hot already mapped)\n",
    "        counter += length\n",
    "    \n",
    "    print(f\"{feature}: {length} dimensions\")\n",
    "print(\"Total dimensions for static features:\", counter)"
   ]
  },
  {
   "cell_type": "code",
   "execution_count": 391,
   "id": "f4832b25",
   "metadata": {},
   "outputs": [
    {
     "name": "stdout",
     "output_type": "stream",
     "text": [
      "Feedforward input dim: 76\n"
     ]
    },
    {
     "data": {
      "text/plain": [
       "0         [tensor(1.), tensor(0.), tensor(0.), tensor(0....\n",
       "1         [tensor(0.), tensor(0.), tensor(0.), tensor(0....\n",
       "2         [tensor(0.), tensor(0.), tensor(0.), tensor(0....\n",
       "3         [tensor(0.), tensor(0.), tensor(0.), tensor(0....\n",
       "4         [tensor(0.), tensor(0.), tensor(0.), tensor(0....\n",
       "                                ...                        \n",
       "391147    [tensor(0.), tensor(0.), tensor(0.), tensor(0....\n",
       "391148    [tensor(0.), tensor(0.), tensor(0.), tensor(0....\n",
       "391149    [tensor(0.), tensor(1.), tensor(0.), tensor(0....\n",
       "391150    [tensor(0.), tensor(0.), tensor(0.), tensor(0....\n",
       "391151    [tensor(0.), tensor(0.), tensor(0.), tensor(0....\n",
       "Name: static_vector, Length: 391152, dtype: object"
      ]
     },
     "execution_count": 391,
     "metadata": {},
     "output_type": "execute_result"
    }
   ],
   "source": [
    "# Function to create static vector\n",
    "def flatten_static_features(row):\n",
    "    return torch.tensor(\n",
    "        row['town_one_hot'] +\n",
    "        row['flat_model_one_hot'] +\n",
    "        row['hdb_classification_one_hot'] +\n",
    "        row['street_name_embed'] +\n",
    "        row['flat_type_one_hot'] +\n",
    "        row['storey_category_one_hot']+\n",
    "        [\n",
    "            row['lease_commence_date'],\n",
    "            row['floor_area_category'],\n",
    "        ],\n",
    "        dtype=torch.float32\n",
    "    )\n",
    "\n",
    "# Apply flatten_static_features function to every row in df_final\n",
    "df_final['static_vector'] = df_final.apply(flatten_static_features, axis=1)\n",
    "\n",
    "input_dim = len(df_final.loc[0, 'static_vector'])\n",
    "print(\"Feedforward input dim:\", input_dim)\n",
    "\n",
    "# Sanity check: We now have column - static_vector - where every row is a 76 dimension tensor\n",
    "df_final['static_vector']\n"
   ]
  },
  {
   "cell_type": "markdown",
   "id": "20381f70",
   "metadata": {},
   "source": [
    "# Checking for unique static vectors \n",
    "\n",
    "Problem - Collapsing too many rows into a single static vector could result in static vectors with a short sequence length. Ideally, we'd want a sequence length of at least 12 months"
   ]
  },
  {
   "cell_type": "code",
   "execution_count": 392,
   "id": "ac3dd85c",
   "metadata": {},
   "outputs": [
    {
     "name": "stdout",
     "output_type": "stream",
     "text": [
      "Number of unique static vectors: 11897\n"
     ]
    },
    {
     "data": {
      "image/png": "[encoded data removed]",
      "text/plain": [
       "<Figure size 1000x500 with 1 Axes>"
      ]
     },
     "metadata": {},
     "output_type": "display_data"
    }
   ],
   "source": [
    "# Convert tensor to tuple for hashing purposes\n",
    "df_final['static_tuple'] = df_final['static_vector'].apply(lambda x: tuple(x.tolist()))\n",
    "# Count unique static vectors\n",
    "num_unique_static_vectors = df_final['static_tuple'].nunique()\n",
    "print(\"Number of unique static vectors:\", num_unique_static_vectors)\n",
    "\n",
    "# Get sequence lengths (i.e., number of rows per unique static vector)\n",
    "profile_sequence_lengths = df_final['static_tuple'].value_counts()\n",
    "\n",
    "# Plot the histogram of sequence lengths\n",
    "plt.figure(figsize=(10, 5))\n",
    "profile_sequence_lengths.hist(bins=50)\n",
    "plt.title(\"Sequence Lengths (Monthly Records) per Flat Profile\")\n",
    "plt.xlabel(\"Number of Months\")\n",
    "plt.ylabel(\"Number of Flat Profiles\")\n",
    "plt.grid(True)\n",
    "plt.show()\n"
   ]
  },
  {
   "cell_type": "code",
   "execution_count": 393,
   "id": "11c6a941",
   "metadata": {},
   "outputs": [
    {
     "name": "stdout",
     "output_type": "stream",
     "text": [
      "Number of unique static profiles 11897\n",
      "Number of static profiles with > 12 months of data: 7110\n",
      "Average sequence length (for profiles >12 months): 50.75977496483826\n",
      "Number of static profiles with < 12 months of data: 3537\n",
      "Total Number of Rows in dataset 391152\n"
     ]
    }
   ],
   "source": [
    "num_profiles_gt_12 = (profile_sequence_lengths > 12).sum()\n",
    "num_profiles_lt_12 = (profile_sequence_lengths < 12).sum()\n",
    "avg_length = profile_sequence_lengths[profile_sequence_lengths > 12].mean()\n",
    "num_unique_static_vectors = df_final['static_tuple'].nunique()\n",
    "\n",
    "print(\"Number of unique static profiles\", num_unique_static_vectors)\n",
    "print(\"Number of static profiles with > 12 months of data:\", num_profiles_gt_12)\n",
    "print(\"Average sequence length (for profiles >12 months):\", avg_length)\n",
    "print(\"Number of static profiles with < 12 months of data:\", num_profiles_lt_12)\n",
    "print(\"Total Number of Rows in dataset\",len(df_final))\n"
   ]
  },
  {
   "cell_type": "markdown",
   "id": "e9eaf75c",
   "metadata": {},
   "source": [
    "## Clean up \n",
    "Filtering out unique static vectors with <12 months of data"
   ]
  },
  {
   "cell_type": "code",
   "execution_count": 394,
   "id": "ca711087",
   "metadata": {},
   "outputs": [
    {
     "name": "stdout",
     "output_type": "stream",
     "text": [
      "Filtered dataset size: 360902\n"
     ]
    }
   ],
   "source": [
    "valid_profiles = profile_sequence_lengths[profile_sequence_lengths > 12].index\n",
    "df_filtered = df_final[df_final['static_tuple'].isin(valid_profiles)]\n",
    "print(\"Filtered dataset size:\", len(df_filtered))\n"
   ]
  },
  {
   "cell_type": "markdown",
   "id": "8b5824f6",
   "metadata": {},
   "source": []
  },
  {
   "cell_type": "markdown",
   "id": "bd834390",
   "metadata": {},
   "source": [
    "## Contigious Check \n",
    "\n",
    "Now that we have identified our static vectors with more than 12 months of data, there is still 1 more check we should do. The sequence must be contiguous, meaning that the sequence should not be disjointed "
   ]
  },
  {
   "cell_type": "code",
   "execution_count": 395,
   "id": "0062ea9b",
   "metadata": {},
   "outputs": [
    {
     "name": "stderr",
     "output_type": "stream",
     "text": [
      "/var/folders/5x/zyxhwl456zgdlj_lrsfyy9qm0000gn/T/ipykernel_20620/2618642495.py:5: SettingWithCopyWarning: \n",
      "A value is trying to be set on a copy of a slice from a DataFrame.\n",
      "Try using .loc[row_indexer,col_indexer] = value instead\n",
      "\n",
      "See the caveats in the documentation: https://pandas.pydata.org/pandas-docs/stable/user_guide/indexing.html#returning-a-view-versus-a-copy\n",
      "  df_filtered['month'] = pd.to_datetime(df_filtered['month'])\n"
     ]
    }
   ],
   "source": [
    "# Dictionary to track if each profile has 12+ *consecutive* months\n",
    "valid_continuous_profiles = []\n",
    "\n",
    "# Convert to datetime if not already\n",
    "df_filtered['month'] = pd.to_datetime(df_filtered['month'])\n",
    "\n",
    "# Group by static profile\n",
    "grouped = df_filtered.groupby('static_tuple')\n",
    "\n",
    "for static_key, group in grouped:\n",
    "    months = group['month'].sort_values().reset_index(drop=True)\n",
    "\n",
    "    # Convert to month difference from first month\n",
    "    deltas = months.diff().dropna().dt.days\n",
    "\n",
    "    # Count longest streak of monthly continuity (≤31 days between months)\n",
    "    streak = 1\n",
    "    max_streak = 1\n",
    "    for gap in deltas:\n",
    "        if gap <= 31:  # Allow 1-month gaps\n",
    "            streak += 1\n",
    "            max_streak = max(max_streak, streak)\n",
    "        else:\n",
    "            streak = 1  # Reset streak if gap too large\n",
    "\n",
    "    if max_streak >= 12:\n",
    "        valid_continuous_profiles.append(static_key)\n",
    "\n"
   ]
  },
  {
   "cell_type": "code",
   "execution_count": 396,
   "id": "e4dc88f3",
   "metadata": {},
   "outputs": [
    {
     "name": "stdout",
     "output_type": "stream",
     "text": [
      "Strictly valid profiles with ≥12 *consecutive* months: 5632\n",
      "Remaining rows: 321699\n"
     ]
    }
   ],
   "source": [
    "df_strict = df_filtered[df_filtered['static_tuple'].isin(valid_continuous_profiles)]\n",
    "print(\"Strictly valid profiles with ≥12 *consecutive* months:\", len(valid_continuous_profiles))\n",
    "print(\"Remaining rows:\", len(df_strict))"
   ]
  },
  {
   "cell_type": "code",
   "execution_count": null,
   "id": "b6d651c1",
   "metadata": {},
   "outputs": [
    {
     "name": "stdout",
     "output_type": "stream",
     "text": [
      "Final dataset size: 321699\n"
     ]
    }
   ],
   "source": [
    "# Update df_final to only include valid continuous profiles\n",
    "df_final = df_strict.copy()\n",
    "df_final.reset_index(drop=True, inplace=True)\n",
    "print(\"Dataset size:\", len(df_final))"
   ]
  },
  {
   "cell_type": "markdown",
   "id": "3eced337",
   "metadata": {},
   "source": [
    "## Define Train - Test - Val split\n",
    "\n"
   ]
  },
  {
   "cell_type": "code",
   "execution_count": 398,
   "id": "77dfd095",
   "metadata": {},
   "outputs": [
    {
     "name": "stdout",
     "output_type": "stream",
     "text": [
      "Train size: 106344 (Pre-COVID)\n",
      "Validation size: 75850 (0–2 year post-COVID)\n",
      "Test size: 139505 (2+ years post-COVID)\n"
     ]
    }
   ],
   "source": [
    "\n",
    "''' \n",
    "    Split dataset by flat profile. So each group is a flat profile with multiple months of data.\n",
    "    Then sort each group by month to process the data in true chronological order\n",
    "    Split each group into train, val, and test sets\n",
    "    - Train: Before COVID\n",
    "    - Val: 0-2 year after COVID\n",
    "    - Test: 2+ years after COVID\n",
    "'''\n",
    "\n",
    "# Ensure 'month' column is datetime\n",
    "df_final['month'] = pd.to_datetime(df_final['month'])\n",
    "\n",
    "# Define COVID cutoff points\n",
    "covid_start = pd.to_datetime(\"2020-01-01\")\n",
    "val_cutoff = pd.to_datetime(\"2022-01-01\")\n",
    "test_cutoff = pd.to_datetime(\"2022-01-01\")  # Not strictly needed, just for clarity\n",
    "\n",
    "# Split globally across all static profiles\n",
    "df_train = df_final[df_final['month'] < covid_start].reset_index(drop=True)\n",
    "df_val = df_final[(df_final['month'] >= covid_start) & (df_final['month'] < val_cutoff)].reset_index(drop=True)\n",
    "df_test = df_final[df_final['month'] >= test_cutoff].reset_index(drop=True)\n",
    "\n",
    "# ✅ Final sanity check\n",
    "print(f\"Train size: {len(df_train)} (Pre-COVID)\")\n",
    "print(f\"Validation size: {len(df_val)} (0–2 year post-COVID)\")\n",
    "print(f\"Test size: {len(df_test)} (2+ years post-COVID)\")\n"
   ]
  },
  {
   "cell_type": "markdown",
   "id": "10541193",
   "metadata": {},
   "source": [
    "### Round 2: Filter out Non-Contiguous Static Variables\n",
    "\n",
    "After we have split our dataset into train-val-test sets, we might run into another round of non-contiguous data. Hence, we must filter them out again"
   ]
  },
  {
   "cell_type": "code",
   "execution_count": 399,
   "id": "6f020b32",
   "metadata": {},
   "outputs": [],
   "source": [
    "def get_valid_continuous_profiles(df, min_streak=12):\n",
    "    df['month'] = pd.to_datetime(df['month'])\n",
    "    grouped = df.groupby('static_tuple')\n",
    "    valid_profiles = []\n",
    "\n",
    "    for static_key, group in grouped:\n",
    "        months = group['month'].sort_values().reset_index(drop=True)\n",
    "        deltas = months.diff().dropna().dt.days\n",
    "\n",
    "        streak = 1\n",
    "        max_streak = 1\n",
    "        for gap in deltas:\n",
    "            if gap <= 31:  # ≤1 month gap\n",
    "                streak += 1\n",
    "                max_streak = max(max_streak, streak)\n",
    "            else:\n",
    "                streak = 1\n",
    "        if max_streak >= min_streak:\n",
    "            valid_profiles.append(static_key)\n",
    "\n",
    "    return valid_profiles\n"
   ]
  },
  {
   "cell_type": "markdown",
   "id": "a4f73854",
   "metadata": {},
   "source": [
    "### Filter out non-contiguous data again"
   ]
  },
  {
   "cell_type": "code",
   "execution_count": 400,
   "id": "1c83a5db",
   "metadata": {},
   "outputs": [
    {
     "name": "stdout",
     "output_type": "stream",
     "text": [
      "Filtered train size: 96662\n",
      "Filtered val size: 66164\n",
      "Filtered test size: 133371\n"
     ]
    }
   ],
   "source": [
    "# Filter train\n",
    "train_valid_profiles = get_valid_continuous_profiles(df_train)\n",
    "df_train = df_train[df_train['static_tuple'].isin(train_valid_profiles)].reset_index(drop=True)\n",
    "\n",
    "# Filter val\n",
    "val_valid_profiles = get_valid_continuous_profiles(df_val)\n",
    "df_val = df_val[df_val['static_tuple'].isin(val_valid_profiles)].reset_index(drop=True)\n",
    "\n",
    "# Filter test\n",
    "test_valid_profiles = get_valid_continuous_profiles(df_test)\n",
    "df_test = df_test[df_test['static_tuple'].isin(test_valid_profiles)].reset_index(drop=True)\n",
    "\n",
    "print(\"Filtered train size:\", len(df_train))\n",
    "print(\"Filtered val size:\", len(df_val))\n",
    "print(\"Filtered test size:\", len(df_test))"
   ]
  },
  {
   "cell_type": "markdown",
   "id": "5434e5b6",
   "metadata": {},
   "source": [
    "## Create Feedforward layer using static vectors"
   ]
  },
  {
   "cell_type": "code",
   "execution_count": null,
   "id": "6bc99209",
   "metadata": {},
   "outputs": [
    {
     "name": "stdout",
     "output_type": "stream",
     "text": [
      "Train set with static embedding shape: [76]\n",
      "Val set with static embedding shape: [76]\n",
      "Test set with static embedding shape: [76]\n"
     ]
    }
   ],
   "source": [
    "\n",
    "# Define the feedforward model\n",
    "class StaticFFModel(nn.Module):\n",
    "    def __init__(self, input_dim, output_dim):\n",
    "        super().__init__()\n",
    "        self.ff = nn.Sequential(\n",
    "            nn.Linear(input_dim, 128), # Hyperparameter\n",
    "            nn.ReLU(),\n",
    "            nn.Linear(128, output_dim),\n",
    "            nn.ReLU()\n",
    "        )\n",
    "\n",
    "    def forward(self, x):\n",
    "        return self.ff(x)\n",
    "\n",
    "# Create instance\n",
    "static_ff = StaticFFModel(input_dim=76, output_dim=76) # Note we should modify the output dimension to fit the hidden layer of the LSTM model. \n",
    "\n",
    "# Move model to MPS (or CUDA/CPU depending on your setup)\n",
    "static_ff = static_ff.to(device)\n",
    "\n",
    "#processing df_train\n",
    "static_tensor_batch = torch.stack(df_train['static_vector'].tolist()).to(device)  \n",
    "feedforward_output_train = static_ff(static_tensor_batch)\n",
    "df_train['static_embedding'] = feedforward_output_train.detach().cpu().tolist()\n",
    "\n",
    "#processing df_val\n",
    "static_tensor_batch = torch.stack(df_val['static_vector'].tolist()).to(device)\n",
    "feedforward_output_val = static_ff(static_tensor_batch)\n",
    "df_val['static_embedding'] = feedforward_output_val.detach().cpu().tolist()\n",
    "\n",
    "#processing df_test\n",
    "static_tensor_batch = torch.stack(df_test['static_vector'].tolist()).to(device)\n",
    "feedforward_output_test = static_ff(static_tensor_batch)\n",
    "df_test['static_embedding'] = feedforward_output_test.detach().cpu().tolist()\n",
    "\n",
    "print (\"Train set with static embedding shape:\", df_train['static_embedding'].apply(lambda x: len(x)).unique())\n",
    "print (\"Val set with static embedding shape:\", df_val['static_embedding'].apply(lambda x: len(x)).unique())\n",
    "print (\"Test set with static embedding shape:\", df_test['static_embedding'].apply(lambda x: len(x)).unique())\n",
    "\n"
   ]
  },
  {
   "cell_type": "markdown",
   "id": "a7be8535",
   "metadata": {},
   "source": [
    "# Normalize Non-static features\n",
    "\n",
    "Price and Remaining Lease"
   ]
  },
  {
   "cell_type": "code",
   "execution_count": 402,
   "id": "31d82032",
   "metadata": {},
   "outputs": [],
   "source": [
    "# Only from training set\n",
    "resale_mean = df_train['resale_price'].mean()\n",
    "resale_std = df_train['resale_price'].std()\n",
    "\n",
    "lease_mean = df_train['remaining_lease'].mean()\n",
    "lease_std = df_train['remaining_lease'].std()\n"
   ]
  },
  {
   "cell_type": "code",
   "execution_count": 403,
   "id": "fe9c85da",
   "metadata": {},
   "outputs": [],
   "source": [
    "# Normalize resale_price and remaining_lease\n",
    "for df in [df_train, df_val, df_test]:\n",
    "    df['resale_price_normalized'] = (df['resale_price'] - resale_mean) / resale_std\n",
    "    df['remaining_lease_normalized'] = (df['remaining_lease'] - lease_mean) / lease_std\n"
   ]
  },
  {
   "cell_type": "markdown",
   "id": "00f31712",
   "metadata": {},
   "source": [
    "# Sliding Window"
   ]
  },
  {
   "cell_type": "code",
   "execution_count": null,
   "id": "c26e8302",
   "metadata": {},
   "outputs": [],
   "source": [
    "def generate_sequences(df, window_size=12):\n",
    "    x_combined_list = []\n",
    "    y_list = []\n",
    "\n",
    "    grouped = df.groupby(\"static_tuple\")\n",
    "\n",
    "    for _, group in grouped:\n",
    "        group = group.sort_values(\"month\").reset_index(drop=True)\n",
    "\n",
    "        if len(group) < window_size + 1:\n",
    "            continue  # not enough data to create a window\n",
    "        \n",
    "\n",
    "        for i in range(len(group) - window_size):\n",
    "            # Select 12 rows of data at row i, with 2 columns: resale_price and remaining_lease\n",
    "            # x_window.shape = [12, 2]\n",
    "            x_window = group.loc[i:i+window_size-1, [\"resale_price_normalized\", \"remaining_lease_normalized\"]].values\n",
    "            \n",
    "        \n",
    "            # Obtain static embedding at time t+1\n",
    "            # repeat for 12 time steps\n",
    "            x_static = group.loc[i+window_size, \"static_embedding\"]\n",
    "            x_static_repeated = np.tile(x_static, (window_size, 1))  \n",
    "            \n",
    "            # Concatenate dynamic and static features \n",
    "            x_combined = np.concatenate([x_window, x_static_repeated], axis=1)\n",
    "\n",
    "            # Target: resale_price at time t+1\n",
    "            y = group.loc[i+window_size, \"resale_price_normalized\"]\n",
    "\n",
    "            x_combined_list.append(x_combined) # Store input \n",
    "            y_list.append(y) #Store output\n",
    "\n",
    "    # Convert to tensors\n",
    "    X_tensor = torch.tensor(np.array(x_combined_list), dtype=torch.float32)  # [N, 12, 76]\n",
    "    y_tensor = torch.tensor(np.array(y_list), dtype=torch.float32)           # [N]\n",
    "\n",
    "    return X_tensor, y_tensor\n"
   ]
  },
  {
   "cell_type": "code",
   "execution_count": 405,
   "id": "10ebe812",
   "metadata": {},
   "outputs": [
    {
     "name": "stdout",
     "output_type": "stream",
     "text": [
      "Train shape: torch.Size([49862, 12, 78]) torch.Size([49862])\n",
      "Val shape: torch.Size([23984, 12, 78]) torch.Size([23984])\n",
      "Test shape: torch.Size([76923, 12, 78]) torch.Size([76923])\n"
     ]
    }
   ],
   "source": [
    "X_train, y_train = generate_sequences(df_train)\n",
    "X_val, y_val = generate_sequences(df_val)\n",
    "X_test, y_test = generate_sequences(df_test)\n",
    "\n",
    "print(\"Train shape:\", X_train.shape, y_train.shape)\n",
    "print(\"Val shape:\", X_val.shape, y_val.shape)\n",
    "print(\"Test shape:\", X_test.shape, y_test.shape)\n"
   ]
  },
  {
   "cell_type": "code",
   "execution_count": 406,
   "id": "0da0d7b8",
   "metadata": {},
   "outputs": [],
   "source": [
    "def get_tensor_loader(X_tensor, y_tensor, batch_size=32, shuffle=True):\n",
    "    dataset = TensorDataset(X_tensor, y_tensor)\n",
    "    return DataLoader(dataset, batch_size=batch_size, shuffle=shuffle)"
   ]
  },
  {
   "cell_type": "code",
   "execution_count": 407,
   "id": "5c747b37",
   "metadata": {},
   "outputs": [],
   "source": [
    "train_loader = get_tensor_loader(X_train, y_train, batch_size=32, shuffle=True)\n",
    "val_loader = get_tensor_loader(X_val, y_val, batch_size=32, shuffle=False)\n",
    "test_loader = get_tensor_loader(X_test, y_test, batch_size=32, shuffle=False)\n"
   ]
  },
  {
   "cell_type": "markdown",
   "id": "d21c123e",
   "metadata": {},
   "source": [
    "## Save train, val and test dataframes"
   ]
  },
  {
   "cell_type": "code",
   "execution_count": 408,
   "id": "a1c2bbd0",
   "metadata": {},
   "outputs": [],
   "source": [
    "# Save train, val, and test dataframes\n",
    "# df_train.to_csv(\"train_data.csv\", index=False)\n",
    "# df_val.to_csv(\"val_data.csv\", index=False)\n",
    "# df_test.to_csv(\"test_data.csv\", index=False)"
   ]
  },
  {
   "cell_type": "markdown",
   "id": "2f7d5295",
   "metadata": {},
   "source": [
    "# LSTM"
   ]
  },
  {
   "cell_type": "code",
   "execution_count": 409,
   "id": "4a21a0b8",
   "metadata": {},
   "outputs": [],
   "source": [
    "class LSTMEncoder(nn.Module):\n",
    "    def __init__(self, non_static_dim, static_embedding_dim, hidden_dim, num_layers=1):\n",
    "        super().__init__()\n",
    "        input_dim = non_static_dim + static_embedding_dim\n",
    "        self.lstm = nn.LSTM(\n",
    "            input_size=input_dim, # 2 +76 (dynamic + static) = 78 \n",
    "            hidden_size=hidden_dim, # Hyperparameter\n",
    "            num_layers=num_layers, # Hyperparameter\n",
    "            batch_first=True # input tensor (x) shape is set to [batch_size, sequence_length, input_dim]\n",
    "        )\n",
    "\n",
    "    def forward(self, x):\n",
    "        # x shape: [batch_size, sequence_length, input_dim]\n",
    "        # out is the hidden state for all time steps\n",
    "        # hn is the hidden state for the last time step \n",
    "        # cn is the cell state (long term history for the last time step\n",
    "        out, (hn, cn) = self.lstm(x)\n",
    "        return hn, cn  # Return full hidden & cell states\n",
    "    \n"
   ]
  },
  {
   "cell_type": "code",
   "execution_count": null,
   "id": "f20996b6",
   "metadata": {},
   "outputs": [],
   "source": [
    "class LSTMDecoder(nn.Module):\n",
    "    def __init__(self, hidden_dim, static_embedding_dim, output_dim=1):\n",
    "        super().__init__()\n",
    "        self.hidden_dim = hidden_dim\n",
    "        self.input_dim = output_dim + static_embedding_dim  # 1 + 76\n",
    "        self.lstm = nn.LSTM(input_size=self.input_dim, hidden_size=hidden_dim, batch_first=True)\n",
    "        self.fc = nn.Linear(hidden_dim, output_dim)\n",
    "\n",
    "    def forward(self, target_len, static_embed, hidden, cell, teacher_forcing_inputs=None, teacher_forcing_ratio=0.5):\n",
    "        \"\"\"\n",
    "        Inputs:\n",
    "        - target_len: length of the target sequence:, how many resale prices to predict ? \n",
    "        - static_embed: [B, 64] - static embedding repeated for each time step \n",
    "        - hidden, cell: states from encoder\n",
    "        - teacher_forcing_inputs: [B, target_len] optional ground truth inputs values \n",
    "        - teacher_forcing_ratio: how often to use ground truth vs predicted values \n",
    "        Returns:\n",
    "        - outputs: [B, target_len]\n",
    "        \"\"\"\n",
    "        batch_size = static_embed.size(0) # Batch size \n",
    "        output_dim = self.fc.out_features # 1 \n",
    "        outputs = []\n",
    "\n",
    "        # First input: zero resale price\n",
    "        input_step = torch.zeros(batch_size, 1, output_dim).to(static_embed.device)\n",
    "\n",
    "        # Run the decoder target_len times \n",
    "        # If we want a prediction 5 years ahead, target_len = 60\n",
    "        for t in range(target_len):\n",
    "            # Concatenate static embedding to every input\n",
    "            static_t = static_embed.unsqueeze(1)  # [B, 1, 76]\n",
    "            lstm_input = torch.cat([input_step, static_t], dim=2)  # [B, 1, 1+76]\n",
    "\n",
    "            out, (hidden, cell) = self.lstm(lstm_input, (hidden, cell))  # out: [B, 1, H]\n",
    "            output = self.fc(out)  # [B, 1, 1]\n",
    "            outputs.append(output.squeeze(1))  # [B, 1] → squeeze time dim\n",
    "\n",
    "            # Decide whether to use teacher forcing\n",
    "            # When training, we can use teacher forcing to improve convergence\n",
    "            # When doing inference into the future, we use the predicted value\n",
    "            if teacher_forcing_inputs is not None and torch.rand(1).item() < teacher_forcing_ratio:\n",
    "                input_step = teacher_forcing_inputs[:, t].unsqueeze(1).unsqueeze(-1)  # [B, 1, 1]\n",
    "            else:\n",
    "                input_step = output  # Autoregressive prediction \n",
    "\n",
    "        return torch.cat(outputs, dim=1)  # [B, target_len]\n"
   ]
  },
  {
   "cell_type": "code",
   "execution_count": 418,
   "id": "11499e1d",
   "metadata": {},
   "outputs": [],
   "source": [
    "class Seq2SeqModel(nn.Module):\n",
    "    def __init__(self, encoder, decoder):\n",
    "        super().__init__()\n",
    "        self.encoder = encoder\n",
    "        self.decoder = decoder\n",
    "\n",
    "    def forward(self, x, static_embed, target_len=1, teacher_forcing_inputs=None, teacher_forcing_ratio=0.5):\n",
    "\n",
    "        hidden, cell = self.encoder(x) # Obtain hidden and cell states from encoder\n",
    "        return self.decoder(\n",
    "            target_len=target_len,\n",
    "            static_embed=static_embed,\n",
    "            hidden=hidden,\n",
    "            cell=cell,\n",
    "            teacher_forcing_inputs=teacher_forcing_inputs,\n",
    "            teacher_forcing_ratio=teacher_forcing_ratio\n",
    "        )\n",
    "\n",
    "\n",
    "def train_epoch(model, dataloader, optimizer, criterion, device, target_len=1, teacher_forcing=True):\n",
    "    model.train()\n",
    "    total_loss = 0\n",
    "\n",
    "    for x_batch, y_batch in dataloader:\n",
    "        x_batch = x_batch.to(device)             \n",
    "        y_batch = y_batch.to(device)          \n",
    "\n",
    "        static_embed = x_batch[:, 0, -76:]        # extract static embedding (same across all time steps)\n",
    "\n",
    "        # If teacher forcing, use the ground truth values for the next time step \n",
    "        # Else use the predicted values\n",
    "        teacher_inputs = y_batch.unsqueeze(1) if teacher_forcing else None  \n",
    "\n",
    "        optimizer.zero_grad()\n",
    "        outputs = model(\n",
    "            x_batch,\n",
    "            static_embed,\n",
    "            target_len=target_len,\n",
    "            teacher_forcing_inputs=teacher_inputs,\n",
    "            teacher_forcing_ratio=0.5 if teacher_forcing else 0.0 # Hyperparameter\n",
    "        )\n",
    "\n",
    "        # If multi-step: criterion on all time steps; if single-step: squeeze\n",
    "        if target_len == 1:\n",
    "            outputs = outputs.squeeze(1)\n",
    "        loss = criterion(outputs, y_batch)\n",
    "        loss.backward()\n",
    "        optimizer.step()\n",
    "\n",
    "        total_loss += loss.item()\n",
    "\n",
    "    return total_loss / len(dataloader)\n",
    "\n",
    "\n"
   ]
  },
  {
   "cell_type": "code",
   "execution_count": 419,
   "id": "73aaf764",
   "metadata": {},
   "outputs": [],
   "source": [
    "def validate_epoch(model, dataloader, criterion, device, resale_mean, resale_std, target_len=1):\n",
    "    model.eval()\n",
    "    total_loss = 0\n",
    "    preds = []\n",
    "    trues = []\n",
    "\n",
    "    with torch.no_grad():\n",
    "        for x_batch, y_batch in dataloader:\n",
    "            x_batch = x_batch.to(device)\n",
    "            y_batch = y_batch.to(device)\n",
    "\n",
    "            static_embed = x_batch[:, 0, -76:]\n",
    "\n",
    "            outputs = model(\n",
    "                x_batch,\n",
    "                static_embed,\n",
    "                target_len=target_len,\n",
    "                teacher_forcing_inputs=None,\n",
    "                teacher_forcing_ratio=0.0\n",
    "            )\n",
    "\n",
    "            if target_len == 1:\n",
    "                outputs = outputs.squeeze(1)\n",
    "\n",
    "            loss = criterion(outputs, y_batch)\n",
    "            total_loss += loss.item()\n",
    "\n",
    "            preds.append(outputs.cpu())\n",
    "            trues.append(y_batch.cpu())\n",
    "\n",
    "    preds = torch.cat(preds).numpy()\n",
    "    trues = torch.cat(trues).numpy()\n",
    "\n",
    "    # Denormalize\n",
    "    preds_denorm = preds * resale_std + resale_mean\n",
    "    trues_denorm = trues * resale_std + resale_mean\n",
    "\n",
    "    # Compute metrics\n",
    "    mae = np.mean(np.abs(trues_denorm - preds_denorm))\n",
    "    ss_res = np.sum((trues_denorm - preds_denorm) ** 2)\n",
    "    ss_tot = np.sum((trues_denorm - np.mean(trues_denorm)) ** 2)\n",
    "    r2 = 1 - ss_res / ss_tot\n",
    "\n",
    "    return total_loss / len(dataloader), mae, r2, preds_denorm, trues_denorm\n"
   ]
  },
  {
   "cell_type": "code",
   "execution_count": 420,
   "id": "d222fe2d",
   "metadata": {},
   "outputs": [],
   "source": [
    "def plot_predictions(true_values, predicted_values, title=\"Validation Predictions\"):\n",
    "    plt.figure(figsize=(6, 6))\n",
    "    plt.scatter(true_values, predicted_values, alpha=0.3)\n",
    "    plt.plot([true_values.min(), true_values.max()],\n",
    "             [true_values.min(), true_values.max()], 'r--')\n",
    "    plt.xlabel(\"True Resale Price\")\n",
    "    plt.ylabel(\"Predicted Resale Price\")\n",
    "    plt.title(title)\n",
    "    plt.grid(True)\n",
    "    plt.tight_layout()\n",
    "    plt.show()\n"
   ]
  },
  {
   "cell_type": "code",
   "execution_count": 422,
   "id": "acf24d04",
   "metadata": {},
   "outputs": [
    {
     "name": "stdout",
     "output_type": "stream",
     "text": [
      "Epoch 1 | Train Loss: 0.7289 | Val Loss: 0.7436 | MAE: 109249.22 | R²: 0.32\n",
      "Epoch 2 | Train Loss: 0.6883 | Val Loss: 0.7547 | MAE: 107211.73 | R²: 0.31\n",
      "Epoch 3 | Train Loss: 0.6808 | Val Loss: 0.7575 | MAE: 107522.92 | R²: 0.30\n",
      "Epoch 4 | Train Loss: 0.6748 | Val Loss: 0.7173 | MAE: 107770.43 | R²: 0.34\n",
      "Epoch 5 | Train Loss: 0.6715 | Val Loss: 0.7707 | MAE: 107785.96 | R²: 0.29\n",
      "Epoch 6 | Train Loss: 0.6715 | Val Loss: 0.7878 | MAE: 109483.02 | R²: 0.27\n",
      "Epoch 7 | Train Loss: 0.6727 | Val Loss: 0.6886 | MAE: 106456.11 | R²: 0.37\n",
      "Epoch 8 | Train Loss: 0.6711 | Val Loss: 0.7304 | MAE: 104994.13 | R²: 0.33\n",
      "Epoch 9 | Train Loss: 0.6686 | Val Loss: 0.8846 | MAE: 117041.46 | R²: 0.19\n",
      "Epoch 10 | Train Loss: 0.6668 | Val Loss: 0.8160 | MAE: 110305.88 | R²: 0.25\n"
     ]
    },
    {
     "data": {
      "image/png": "[encoded data removed]",
      "text/plain": [
       "<Figure size 600x600 with 1 Axes>"
      ]
     },
     "metadata": {},
     "output_type": "display_data"
    }
   ],
   "source": [
    "non_static_dim = 2         # resale_price_normalized + remaining_lease_normalized\n",
    "static_embedding_dim = 76  # output of your StaticFFModel\n",
    "hidden_dim = 76            # tunable\n",
    "\n",
    "encoder = LSTMEncoder(\n",
    "    non_static_dim=non_static_dim,\n",
    "    static_embedding_dim=static_embedding_dim,\n",
    "    hidden_dim=hidden_dim,\n",
    "    num_layers=1\n",
    ").to(device)\n",
    "\n",
    "decoder = LSTMDecoder(\n",
    "    hidden_dim=hidden_dim,\n",
    "    static_embedding_dim=static_embedding_dim,\n",
    "    output_dim=1\n",
    ").to(device)\n",
    "\n",
    "model = Seq2SeqModel(encoder, decoder).to(device)\n",
    "optimizer = torch.optim.Adam(model.parameters(), lr=1e-3)\n",
    "criterion = nn.MSELoss()\n",
    "\n",
    "for epoch in range(10):\n",
    "    train_loss = train_epoch(model, train_loader, optimizer, criterion, device, target_len=1)\n",
    "\n",
    "    val_loss, val_mae, val_r2, val_preds, val_trues = validate_epoch(\n",
    "        model, val_loader, criterion, device,\n",
    "        resale_mean=resale_mean, resale_std=resale_std,\n",
    "        target_len=1\n",
    "    )\n",
    "\n",
    "    print(f\"Epoch {epoch+1} | Train Loss: {train_loss:.4f} | Val Loss: {val_loss:.4f} | MAE: {val_mae:.2f} | R²: {val_r2:.2f}\")\n",
    "plot_predictions(val_trues, val_preds)\n"
   ]
  },
  {
   "cell_type": "code",
   "execution_count": 423,
   "id": "259960ea",
   "metadata": {},
   "outputs": [],
   "source": [
    "# Add normalization columns\n",
    "df_final[\"resale_price_normalized\"] = (df_final[\"resale_price\"] - resale_mean) / resale_std\n",
    "df_final[\"remaining_lease_normalized\"] = df_final[\"remaining_lease\"] / 99.0  # assuming max 99-year lease\n",
    "def build_static_embedding(row):\n",
    "    return np.concatenate([\n",
    "        np.array(row['town_one_hot']),\n",
    "        np.array(row['flat_type_one_hot']),\n",
    "        np.array(row['storey_category_one_hot']),\n",
    "        np.array(row['flat_model_one_hot']),\n",
    "        np.array(row['hdb_classification_one_hot']),\n",
    "        np.array(row['street_name_embed']),\n",
    "        np.array([row['lease_commence_date'] / 2025.0]),         # normalize year\n",
    "        np.array([row['floor_area_category'] / 200.0])           # normalize area\n",
    "    ])\n",
    "\n",
    "df_final[\"static_embedding\"] = df_final.apply(build_static_embedding, axis=1)"
   ]
  },
  {
   "cell_type": "code",
   "execution_count": 425,
   "id": "9290e0f6",
   "metadata": {},
   "outputs": [],
   "source": [
    "def recommend_profitable_flats(town, budget, purchase_year, forecast_years, df, model, device, resale_mean, resale_std):\n",
    "    model.eval()\n",
    "    purchase_cutoff = pd.to_datetime(f\"{purchase_year}-12-31\")\n",
    "    df_filtered = df[(df['town'] == town) & (df['month'] <= purchase_cutoff) & (df['resale_price'] <= budget)]\n",
    "    df_filtered.columns.tolist()\n",
    "    results = []\n",
    "    with torch.no_grad():\n",
    "        for key, group in df_filtered.groupby(\"static_tuple\"):\n",
    "            group = group.sort_values(\"month\").reset_index(drop=True)\n",
    "\n",
    "            if len(group) < 12:\n",
    "                continue  # skip if not enough months for sliding window\n",
    "\n",
    "            # Simulate 12-month time window from most recent data before purchase_year\n",
    "            x_window = group.iloc[-12:][[\"resale_price_normalized\", \"remaining_lease_normalized\"]].values  # [12, 2]\n",
    "            static_embed = group.iloc[-1][\"static_embedding\"]  # \n",
    "            x_static_repeated = np.tile(static_embed, (12, 1))  # \n",
    "            x_combined = np.concatenate([x_window, x_static_repeated], axis=1)  # \n",
    "\n",
    "            x_tensor = torch.tensor(x_combined, dtype=torch.float32).unsqueeze(0).to(device)  # [1, 12, 66]\n",
    "            static_tensor = torch.tensor(static_embed, dtype=torch.float32).unsqueeze(0).to(device)  # [1, 64]\n",
    "\n",
    "            # Forecast resale prices\n",
    "            forecast_len = max(forecast_years)\n",
    "            forecast = model(x_tensor, static_tensor, target_len=forecast_len, teacher_forcing_inputs=None, teacher_forcing_ratio=0.0)\n",
    "            forecast = forecast.squeeze(0).cpu().numpy()  # [forecast_len]\n",
    "\n",
    "            # Denormalize predictions\n",
    "            forecast_denorm = forecast * resale_std + resale_mean\n",
    "\n",
    "            for year in forecast_years:\n",
    "                future_price = forecast_denorm[year - 1]\n",
    "                buy_price = group.iloc[-1][\"resale_price\"]\n",
    "                profit = future_price - buy_price\n",
    "                results.append({\n",
    "                    \"street_name\": group.iloc[-1][\"street_name\"] if \"street_name\" in group.columns else str(key),\n",
    "                    \"flat_type\": group.iloc[-1][\"flat_type\"] if \"flat_type\" in group.columns else \"Unknown\",\n",
    "                    \"purchase_price\": buy_price,\n",
    "                    \"year\": purchase_year + year,\n",
    "                    \"predicted_price\": future_price,\n",
    "                    \"estimated_profit\": profit\n",
    "                })\n",
    "\n",
    "    # Sort by highest average profit per street\n",
    "    result_df = pd.DataFrame(results)\n",
    "    print(result_df.empty)\n",
    "    print(result_df.columns)\n",
    "    top_streets = result_df.groupby(\"street_name\")[\"estimated_profit\"].mean().sort_values(ascending=False).head(10)\n",
    "\n",
    "    \n",
    "    print(\"\\n🏆 Top 10 Profitable Streets:\")\n",
    "    print(top_streets)\n",
    " \n",
    "    return result_df, top_streets\n"
   ]
  },
  {
   "cell_type": "code",
   "execution_count": null,
   "id": "6c77b862",
   "metadata": {},
   "outputs": [
    {
     "name": "stdout",
     "output_type": "stream",
     "text": [
      "Available columns: ['month', 'town', 'flat_type', 'street_name', 'storey_category', 'floor_area_category', 'flat_model', 'lease_commence_date', 'remaining_lease', 'resale_price', 'hdb_classification', 'town_one_hot', 'flat_type_one_hot', 'storey_category_one_hot', 'flat_model_one_hot', 'hdb_classification_one_hot', 'street_name_embed', 'row_tuple', 'static_vector', 'static_tuple', 'static_embedding', 'resale_price_normalized', 'remaining_lease_normalized']\n"
     ]
    }
   ],
   "source": [
    "print(\"Available columns:\", df.columns.tolist())"
   ]
  },
  {
   "cell_type": "code",
   "execution_count": 426,
   "id": "40f0ff17",
   "metadata": {},
   "outputs": [
    {
     "name": "stdout",
     "output_type": "stream",
     "text": [
      "False\n",
      "Index(['street_name', 'flat_type', 'purchase_price', 'year', 'predicted_price',\n",
      "       'estimated_profit'],\n",
      "      dtype='object')\n",
      "\n",
      "🏆 Top 10 Profitable Streets:\n",
      "street_name\n",
      "TAMPINES AVE 9    193304.640625\n",
      "TAMPINES ST 24    191346.947917\n",
      "TAMPINES ST 11    188703.031250\n",
      "TAMPINES ST 84    183904.958333\n",
      "TAMPINES ST 41    178243.625000\n",
      "TAMPINES ST 12    178099.281250\n",
      "TAMPINES AVE 8    176870.125000\n",
      "SIMEI ST 1        166035.708333\n",
      "SIMEI RD          163491.791667\n",
      "TAMPINES ST 71    160320.270833\n",
      "Name: estimated_profit, dtype: float64\n"
     ]
    }
   ],
   "source": [
    "results_df, top_streets = recommend_profitable_flats(\n",
    "    town=\"TAMPINES\",\n",
    "    budget=500000,\n",
    "    purchase_year=2017,\n",
    "    forecast_years=[5, 6, 7],\n",
    "    df=df_final,\n",
    "    model=model,\n",
    "    device=device,\n",
    "    resale_mean=resale_mean,\n",
    "    resale_std=resale_std\n",
    ")\n"
   ]
  }
 ],
 "metadata": {
  "kernelspec": {
   "display_name": "base",
   "language": "python",
   "name": "python3"
  },
  "language_info": {
   "codemirror_mode": {
    "name": "ipython",
    "version": 3
   },
   "file_extension": ".py",
   "mimetype": "text/x-python",
   "name": "python",
   "nbconvert_exporter": "python",
   "pygments_lexer": "ipython3",
   "version": "3.12.2"
  }
 },
 "nbformat": 4,
 "nbformat_minor": 5
}
